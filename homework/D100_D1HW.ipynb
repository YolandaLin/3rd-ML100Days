#!/usr/bin/env python
# coding: utf-8

# In[ ]:


作業1：


# In[1]:


# 載入基礎套件與代稱
import numpy as np
import matplotlib.pyplot as plt


# In[10]:


import numpy
def mean_absolute_error(y, yp):
    """
    計算 MAE
    Args:
        - y: 實際值
        - yp: 預測值
    Return:
        - mae: MAE
    """
    mae = MAE = sum(abs(y - yp)) / len(y)
    return mae

# 定義 mean_squared_error 這個函數, 計算並傳回 MSE
def mean_squared_error(y, yp):
    """
    請完成這個 Function 後往下執行
    """
    mes=sum(numpy.square(y-yp))/ len(y)
    return mes    
    


# In[3]:


# 與範例相同, 不另外解說
w = 3
b = 0.5
x_lin = np.linspace(0, 100, 101)
y = (x_lin + np.random.randn(101) * 5) * w + b

plt.plot(x_lin, y, 'b.', label = 'data points')
plt.title("Assume we have data points")
plt.legend(loc = 2)
plt.show()


# In[6]:


# 與範例相同, 不另外解說
y_hat = x_lin * w + b
plt.plot(x_lin, y, 'b.', label = 'data')
plt.plot(x_lin, y_hat, 'r-', label = 'prediction')
plt.title("Assume we have data points (And the prediction)")
plt.legend(loc = 2)
plt.show()


# In[11]:


# 執行 Function, 確認有沒有正常執行
MSE = mean_squared_error(y, y_hat)
MAE = mean_absolute_error(y, y_hat)
print("The Mean squared error is %.3f" % (MSE))
print("The Mean absolute error is %.3f" % (MAE))


# In[ ]:


作業2：


我選擇https://www.kaggle.com/gregorut/videogamesales
1.
因為我喜歡遊戲所以選擇他
2.資料是從http://www.vgchartz.com/來個，作者用pythone爬蟲把資料梳理下來
3.檔案室CVS檔，有文字有數字等
4.評估影響銷售量的因素，並能做出準確預測

作業3：

想像你經營一個自由載客車隊，你希望能透過數據分析以提升業績，請你思考並描述你如何規劃整體的分析/解決方案：

1. 核心問題為何 
首先必須先定義問題，業績怎用數值去描述，金額還是載客量，業績都納入參考

2. 資料從何而來 (tips：哪些資料可能會對你想問的問題產生影響 & 資料如何蒐集)
先從客人從何管道過來，路邊招手，還是透過網路媒體，或是透或車隊協助叫車。
如果是路邊招手，那數據是否可以透過，GPS紀錄或是紙筆方式記錄下來。

3. 蒐集而來的資料型態為何
紙本，或是電腦內的字串

4. 你要回答的問題，其如何評估 (tips：你的假設如何驗證)
透過不同因素增加，觀察業績量是否有正相關，也跟著增加

